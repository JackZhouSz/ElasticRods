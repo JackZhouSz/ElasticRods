{
 "cells": [
  {
   "cell_type": "code",
   "execution_count": null,
   "metadata": {},
   "outputs": [],
   "source": [
    "import sys; sys.path.append('..')\n",
    "import numpy as np, elastic_rods, linkage_vis\n",
    "from bending_validation import suppress_stdout as so\n",
    "\n",
    "l = elastic_rods.RodLinkage('../../examples/florin/20181227_193550_meshID_5ca2f7ab-3602-4ede-ac4d-c2bd798b2961.obj', 8)\n",
    "driver=l.centralJoint()\n",
    "l.setMaterial(elastic_rods.RodMaterial('rectangle', 25000, 0.3, [10, 7]))\n",
    "\n",
    "with so(): elastic_rods.restlen_solve(l)\n",
    "jdo = l.dofOffsetForJoint(driver)\n",
    "fixedVars = list(range(jdo, jdo + 6)) # fix rigid motion for a single joint\n",
    "with so(): elastic_rods.compute_equilibrium(l, fixedVars=fixedVars)\n",
    "view = linkage_vis.LinkageViewer(l, width=1024, height=640)\n",
    "view.setCameraParams(((2.3969, -1.1451, -0.5262), (0.0765, 0.0848, -0.9935), (0.1111, 0.1865, 0.5316)))\n",
    "view.show()"
   ]
  },
  {
   "cell_type": "code",
   "execution_count": null,
   "metadata": {},
   "outputs": [],
   "source": [
    "from open_linkage import open_linkage\n",
    "def equilibriumSolver(tgtAngle, l, opts, fv):\n",
    "    opts.gradTol = 1e-4\n",
    "    return elastic_rods.compute_equilibrium(l, tgtAngle, options=opts, fixedVars=fv)\n",
    "with so(): open_linkage(l, driver, np.deg2rad(93) - l.averageJointAngle, 40, view, equilibriumSolver=equilibriumSolver, maxNewtonIterationsIntermediate=20, useTargetAngleConstraint=True);"
   ]
  },
  {
   "cell_type": "markdown",
   "metadata": {},
   "source": [
    "# Gravity\n",
    "Add in downward gravity force (can be done before or after opening the linkage)."
   ]
  },
  {
   "cell_type": "code",
   "execution_count": null,
   "metadata": {},
   "outputs": [],
   "source": [
    "# Use a common density for GFRP\n",
    "# 2000 kg/m^3 = 2e-6 kg/mm^3\n",
    "externalForces = l.gradient() + l.gravityForce(2e-6)\n",
    "\n",
    "fv = l.dofOffsetForJoint(driver) + np.arange(6) # Fix position/orientation at a single joint\n",
    "with so(): elastic_rods.compute_equilibrium(l, externalForces, fixedVars=fv)\n",
    "\n",
    "view.update()"
   ]
  }
 ],
 "metadata": {
  "kernelspec": {
   "display_name": "Python 3",
   "language": "python",
   "name": "python3"
  },
  "language_info": {
   "codemirror_mode": {
    "name": "ipython",
    "version": 3
   },
   "file_extension": ".py",
   "mimetype": "text/x-python",
   "name": "python",
   "nbconvert_exporter": "python",
   "pygments_lexer": "ipython3",
   "version": "3.8.5"
  }
 },
 "nbformat": 4,
 "nbformat_minor": 4
}
